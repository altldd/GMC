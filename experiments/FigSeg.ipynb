{
 "cells": [
  {
   "cell_type": "markdown",
   "metadata": {},
   "source": [
    "# experiments on figure segmentation"
   ]
  },
  {
   "cell_type": "code",
   "execution_count": null,
   "metadata": {},
   "outputs": [],
   "source": [
    "import sys, os\n",
    "sys.path.append(os.path.join(os.getcwd(), \"..\"))\n",
    "\n",
    "import numpy as np\n",
    "import torch\n",
    "from torch.nn import functional\n",
    "import copy\n",
    "import matplotlib.pyplot as plt\n",
    "import os\n",
    "import json\n",
    "from core.GMC import GMC\n",
    "import h5py\n",
    "import cv2\n",
    "from utils.utils import eval, plot_result, eval2\n",
    "from sklearn.model_selection import train_test_split"
   ]
  },
  {
   "cell_type": "markdown",
   "metadata": {},
   "source": [
    "Our goal is\n",
    "\n",
    " $\\lvert\\mathbb{E}[ g(x)(1- \\frac{\\sum_iy_i\\mathbb{1}_{\\{h_i(x)> \\lambda(x)\\}}}{\\sum_iy_i}-\\sigma) ]\\rvert\\leq \\alpha\\quad \\forall g\\in \\mathcal{G}$\n",
    " \n",
    " We set $\\sigma=0.075, \\alpha=0.0025$"
   ]
  },
  {
   "cell_type": "code",
   "execution_count": null,
   "metadata": {},
   "outputs": [],
   "source": [
    "sigma = 0.075\n",
    "alpha = 0.0025"
   ]
  },
  {
   "cell_type": "markdown",
   "metadata": {},
   "source": [
    "load data and split it into train sets, calibration sets and test sets."
   ]
  },
  {
   "cell_type": "code",
   "execution_count": null,
   "metadata": {},
   "outputs": [],
   "source": [
    "data_path = os.path.join(os.getcwd(), '..','datasets/FigSeg/Result/result.h')\n",
    "f = h5py.File(data_path, \"r\")\n",
    "h,x,y = f['h'], np.array(list(f['x'])), f['y']\n",
    "print('raw data shape: ', h.shape, x.shape, y.shape)\n",
    "sample_size = h.shape[0]\n",
    "# only consider the segmentation of face part\n",
    "h = h[:,1,:,:].reshape(sample_size,-1)\n",
    "y = y[:,1,:,:].reshape(sample_size,-1)\n",
    "print('h shape: ', h.shape, ' y shape: ', y.shape)"
   ]
  },
  {
   "cell_type": "markdown",
   "metadata": {},
   "source": [
    "set sensitive subgroups"
   ]
  },
  {
   "cell_type": "code",
   "execution_count": null,
   "metadata": {},
   "outputs": [],
   "source": [
    "def GMC(alpha, eta, x_cal, y_cal, h_cal, x_test, h_test, s, group_G, f=(lambda x:0), f_test = (lambda x:0), T=500, proj=None):\n",
    "    '''\n",
    "    eta:learning_rate\n",
    "    x_cal:numpy\n",
    "    y_cal:numpy\n",
    "    h_cal:numpy\n",
    "    x_test:numpy\n",
    "    h_test:numpy\n",
    "    s:mapping_function\n",
    "    f:initial_function \n",
    "    group_G:list of group functions\n",
    "    T:max_iteration\n",
    "    return function f\n",
    "    ''' \n",
    "    fx = f(x_cal)\n",
    "    fx_test = f_test(x_test)\n",
    "    n = x_cal.shape[0]\n",
    "    for i in range(T):\n",
    "        update = False\n",
    "        for g in group_G:\n",
    "            #if g(x)@s((fx, x, y, h))>alpha*n:\n",
    "            if g(x_cal)@s(fx, x_cal, y_cal, h_cal)>alpha*n:\n",
    "                update = True\n",
    "                break\n",
    "        if update==False:\n",
    "            print(i)\n",
    "            print('end')\n",
    "            break\n",
    "        else:\n",
    "            fx = fx - eta*g(x_cal)\n",
    "            fx_test = fx_test - eta*g(x_test)\n",
    "            if not (proj is None):\n",
    "                fx = proj(fx)\n",
    "                fx_test = proj(fx_test)\n",
    "    return fx, fx_test"
   ]
  },
  {
   "cell_type": "code",
   "execution_count": null,
   "metadata": {},
   "outputs": [],
   "source": [
    "def generate_X():\n",
    "    female = [3,4,5,7,8,10,12,14,18,19,20,21,22,23,25,27,31,32,36,38,39,40,41,42,43,44,46,47,48,50,51,52,53,54,55,59,60,73,74,75,76,77,78]\n",
    "    white = [1,2,4,5,6,7,8,10,11,12,13,20,21,22,24,26,28,29,30,31,32,33,34,35,37,38,39,41,43,44,45,47,49,50,51,52,53,54,55,56,57]+[i for i in range(58, 119)]\n",
    "    X = [2*int(x in female) + int(x in white) for x in range(1, sample_size + 1)]\n",
    "    return X\n",
    "\n",
    "def generate_G():\n",
    "    female_g = lambda x:(x>=2).astype(\"int64\")\n",
    "    male_g = lambda x:(x<2).astype(\"int64\")\n",
    "    white_g = lambda x:((x==1).astype(\"int64\")+(x==3).astype(\"int64\"))\n",
    "    non_white_g = lambda x: ((x==0).astype(\"int64\")+(x==2).astype(\"int64\"))\n",
    "    return [female_g, male_g, white_g, non_white_g, lambda x:-female_g(x), lambda x:-male_g(x), lambda x:-white_g(x), lambda x:-non_white_g(x)]\n",
    "X = np.array(generate_X())\n",
    "print('X shape:', X.shape)\n",
    "x_cal, x_test, h_cal, h_test, y_cal, y_test = train_test_split(X, h, y, test_size=0.3, random_state=42)\n",
    "G = generate_G()\n",
    "def s(lamda, x, y,h):\n",
    "    shape2 = h.shape[1]\n",
    "    lamda = lamda[:,None].repeat(shape2,axis=1)\n",
    "    intersect = ((h>lamda)*y).sum(axis=1)\n",
    "    return 1-intersect/(y.sum(axis=1))-sigma\n",
    "eta = 0.01\n",
    "fx, fx_test = GMC(3*alpha/4, eta,x_cal, y_cal, h_cal, x_test, h_test, s, G, f=(lambda x:np.array([1.5])),f_test=(lambda x:np.array([1.5])),T=100)"
   ]
  },
  {
   "cell_type": "code",
   "execution_count": null,
   "metadata": {},
   "outputs": [],
   "source": [
    "np.mean(fx)"
   ]
  },
  {
   "cell_type": "markdown",
   "metadata": {},
   "source": [
    "baseline"
   ]
  },
  {
   "cell_type": "code",
   "execution_count": null,
   "metadata": {},
   "outputs": [],
   "source": [
    "def get_lhat(calib_loss_table, lambdas, alpha, B=1):\n",
    "    n = calib_loss_table.shape[0]\n",
    "    rhat = calib_loss_table.mean(axis=0)\n",
    "    lhat_idx = max(np.argmax(((n/(n+1)) * rhat + B/(n+1) ) >= alpha) - 1, 0) # Can't be -1.\n",
    "    return lambdas[lhat_idx]\n",
    "lambda_table = np.linspace(0,2,20)\n",
    "calib_losses = np.array([s(np.ones(x_cal.shape[0])*lhat, x_cal, y_cal, h_cal) for lhat in lambda_table]).transpose(1,0)\n",
    "lhat = get_lhat(calib_losses, lambda_table, alpha)\n",
    "fx_b, fx_test_b = np.ones(x_cal.shape[0])*lhat, np.ones(y_test.shape[0])*lhat"
   ]
  },
  {
   "cell_type": "markdown",
   "metadata": {},
   "source": [
    "plot the mapping function over different subgroups"
   ]
  },
  {
   "cell_type": "code",
   "execution_count": null,
   "metadata": {},
   "outputs": [],
   "source": [
    "G2 = [lambda x:(x>=0).astype(\"int64\")]+[lambda x:-(x>=0).astype(\"int64\")]\n",
    "selected_G = G[:4]\n",
    "category = ['female','male','white','non-white']\n",
    "cal_result = eval(selected_G, s, fx, x_cal, y_cal, h_cal)\n",
    "cal_result_b = eval(selected_G, s, fx_b, x_cal, y_cal, h_cal)\n",
    "test_result = eval(selected_G, s, fx_test, x_test, y_test, h_test)\n",
    "test_result_b = eval(selected_G, s, fx_test_b, x_test, y_test, h_test)"
   ]
  },
  {
   "cell_type": "code",
   "execution_count": null,
   "metadata": {},
   "outputs": [],
   "source": [
    "plot_result(category, cal_result+sigma, cal_result_b+sigma, 'Categories', 'FNR', 'FNR Control in Image Segmentation', sigma)\n",
    "plot_result(category, test_result+sigma, test_result_b+sigma, 'Categories', 'FNR', 'FNR Control in Image Segmentation', sigma)"
   ]
  },
  {
   "cell_type": "code",
   "execution_count": null,
   "metadata": {},
   "outputs": [],
   "source": [
    "def accuracy(lamda, x, y,h):\n",
    "    shape2 = h.shape[1]\n",
    "    lamda = lamda[:,None].repeat(shape2,axis=1)\n",
    "    accurate = ((h>lamda)==y).sum(axis=1)\n",
    "    return accurate/shape2\n",
    "selected_G2 = selected_G + G2[:1]\n",
    "cal_accu = eval2(selected_G2, accuracy, fx, x_cal, y_cal, h_cal)\n",
    "cal_accu_b = eval2(selected_G2, accuracy, fx_b, x_cal, y_cal, h_cal)\n",
    "test_accu = eval2(selected_G2, accuracy, fx_test, x_test, y_test, h_test)\n",
    "test_accu_b = eval2(selected_G2, accuracy, fx_test_b, x_test, y_test, h_test)"
   ]
  },
  {
   "cell_type": "code",
   "execution_count": null,
   "metadata": {},
   "outputs": [],
   "source": [
    "print(test_accu[-1], test_accu_b[-1])"
   ]
  }
 ],
 "metadata": {
  "kernelspec": {
   "display_name": "Python 3.8.17 ('quantile')",
   "language": "python",
   "name": "python3"
  },
  "language_info": {
   "codemirror_mode": {
    "name": "ipython",
    "version": 3
   },
   "file_extension": ".py",
   "mimetype": "text/x-python",
   "name": "python",
   "nbconvert_exporter": "python",
   "pygments_lexer": "ipython3",
   "version": "3.8.17"
  },
  "orig_nbformat": 4,
  "vscode": {
   "interpreter": {
    "hash": "e88ab102d3835c5e5791499b721a8f1dfdf66d227e735a2df3a48d3f5079b7e7"
   }
  }
 },
 "nbformat": 4,
 "nbformat_minor": 2
}
